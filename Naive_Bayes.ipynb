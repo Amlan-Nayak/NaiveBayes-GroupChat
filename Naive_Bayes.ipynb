{
  "cells": [
    {
      "cell_type": "code",
      "execution_count": null,
      "metadata": {
        "colab": {
          "base_uri": "https://localhost:8080/"
        },
        "id": "wW5QQj7NqSSe",
        "outputId": "91e5a443-dec9-400b-9a62-3d3d498de60a"
      },
      "outputs": [
        {
          "name": "stdout",
          "output_type": "stream",
          "text": [
            "Mounted at /content/drive\n"
          ]
        }
      ],
      "source": [
        "from google.colab import drive\n",
        "drive.mount('/content/drive')"
      ]
    },
    {
      "cell_type": "code",
      "execution_count": null,
      "metadata": {
        "colab": {
          "base_uri": "https://localhost:8080/"
        },
        "id": "YvktGx8BKb7J",
        "outputId": "04b651b1-f0e3-46ce-e695-8c5a9f4ff1c4"
      },
      "outputs": [
        {
          "data": {
            "text/plain": [
              "[' whooo',\n",
              " ' lab ka pata karo jaldi',\n",
              " ' tu vineet se puchna',\n",
              " ' <media omitted>',\n",
              " ' my net kharaba as fuck',\n",
              " ' me woke up and had to go outside due to some work',\n",
              " ' iss baar lagta koi chuya nahi',\n",
              " ' <media omitted>',\n",
              " ' ohkay',\n",
              " ' 💋']"
            ]
          },
          "execution_count": 1,
          "metadata": {
            "tags": []
          },
          "output_type": "execute_result"
        }
      ],
      "source": [
        "f=open('/content/drive/My Drive/Colab Notebooks/WhatsApp Chat.txt')\n",
        "lines=[]\n",
        "category=[] #0-Amlan,1-Prasad,2-Mihir,3-Dheer\n",
        "def cat(x):\n",
        "  A=x\n",
        "  if 'Amlan' in A:\n",
        "      category.append(0)\n",
        "  elif 'Prasad Ms18' in A:\n",
        "      category.append(1)\n",
        "  elif 'Mihir IISER' in A:\n",
        "      category.append(2)\n",
        "  else:\n",
        "      category.append(3)\n",
        "for line in f:\n",
        "  line=line.strip()\n",
        "  cat(line) \n",
        "  line=line.lower()\n",
        "   \n",
        "  lines.append(line.split(':')[-1])\n",
        "lines[0:10]"
      ]
    },
    {
      "cell_type": "code",
      "execution_count": null,
      "metadata": {
        "colab": {
          "base_uri": "https://localhost:8080/"
        },
        "id": "UVV-Y_-bOgEo",
        "outputId": "29b3a951-c207-414f-8c45-1dab48907be2"
      },
      "outputs": [
        {
          "data": {
            "text/plain": [
              "([' whooo',\n",
              "  ' lab ka pata karo jaldi',\n",
              "  ' tu vineet se puchna',\n",
              "  '  media omitted ',\n",
              "  ' my net kharaba as fuck',\n",
              "  ' me woke up and had to go outside due to some work',\n",
              "  ' iss baar lagta koi chuya nahi',\n",
              "  '  media omitted ',\n",
              "  ' ohkay',\n",
              "  ' 💋'],\n",
              " [1, 2, 0, 1, 1, 2, 0, 1, 2, 0])"
            ]
          },
          "execution_count": 2,
          "metadata": {
            "tags": []
          },
          "output_type": "execute_result"
        }
      ],
      "source": [
        "import numpy as np\n",
        "rep=\"1234567890[,.\\\"\\'!@#$%^&*(){}?/;`~:<>+=-\\\\]\"\n",
        "for i in range(len(lines)):\n",
        "  for j in rep:\n",
        "    if j in lines[i]:\n",
        "      lines[i]=str(lines[i]).replace(j,\" \")\n",
        "lines[0:10],category[0:10]      "
      ]
    },
    {
      "cell_type": "code",
      "execution_count": null,
      "metadata": {
        "colab": {
          "base_uri": "https://localhost:8080/"
        },
        "id": "6yMB5rHrNCcS",
        "outputId": "30791cc9-bf71-4f2a-a257-99f2c056eb3b"
      },
      "outputs": [
        {
          "data": {
            "text/plain": [
              "((20932, 1000), (20932,), (20933, 1000), (20933,))"
            ]
          },
          "execution_count": 3,
          "metadata": {
            "tags": []
          },
          "output_type": "execute_result"
        }
      ],
      "source": [
        "from sklearn.feature_extraction.text import CountVectorizer\n",
        "from sklearn.model_selection import train_test_split\n",
        "import numpy as np\n",
        "X= lines\n",
        "y= category\n",
        "count_vect = CountVectorizer(binary=True, max_features=1000)\n",
        "\n",
        "X = count_vect.fit_transform(X).toarray()\n",
        "y = np.array(category)\n",
        "X_train, X_test, y_train, y_test = train_test_split(X, y,test_size=0.5, random_state=0)\n",
        "X_train.shape,y_train.shape,X_test.shape,y_test.shape"
      ]
    },
    {
      "cell_type": "code",
      "execution_count": null,
      "metadata": {
        "colab": {
          "background_save": true
        },
        "id": "kGIUosElsaHs",
        "outputId": "edfe330a-8d6a-44d3-d2ad-366dc1f49abd"
      },
      "outputs": [
        {
          "data": {
            "text/plain": [
              "SVC(C=1.0, break_ties=False, cache_size=200, class_weight=None, coef0=0.0,\n",
              "    decision_function_shape='ovr', degree=3, gamma='scale', kernel='rbf',\n",
              "    max_iter=-1, probability=False, random_state=None, shrinking=True,\n",
              "    tol=0.001, verbose=False)"
            ]
          },
          "execution_count": null,
          "metadata": {},
          "output_type": "execute_result"
        }
      ],
      "source": [
        "from sklearn import svm\n",
        "clf = svm.SVC(kernel='rbf')\n",
        "clf.fit(X_train, y_train)"
      ]
    },
    {
      "cell_type": "code",
      "execution_count": null,
      "metadata": {
        "colab": {
          "base_uri": "https://localhost:8080/"
        },
        "id": "php-vsleuN3_",
        "outputId": "92c1c77d-cb4b-4cdd-93f5-b948a83249b0"
      },
      "outputs": [
        {
          "data": {
            "text/plain": [
              "0.431"
            ]
          },
          "execution_count": 27,
          "metadata": {
            "tags": []
          },
          "output_type": "execute_result"
        }
      ],
      "source": [
        "from sklearn.metrics import accuracy_score,confusion_matrix\n",
        "predicted= clf.predict(X_test[0:1000,:])\n",
        "accuracy_score(y_test[0:1000],predicted)"
      ]
    },
    {
      "cell_type": "code",
      "execution_count": null,
      "metadata": {
        "colab": {
          "base_uri": "https://localhost:8080/"
        },
        "id": "-gruMLmqNkrg",
        "outputId": "aee7c3dc-819c-42c6-8e25-4605cee07a8c"
      },
      "outputs": [
        {
          "name": "stdout",
          "output_type": "stream",
          "text": [
            "[0.26310593 0.20539525 0.21568253 0.31581629]\n"
          ]
        }
      ],
      "source": [
        "n = X_train.shape[0] \n",
        "d = X_train.shape[1] \n",
        "K = 4 \n",
        "\n",
        "psis = np.zeros([K,d])\n",
        "phis = np.zeros([K])\n",
        "\n",
        "\n",
        "for k in range(K):\n",
        "    X_k = X_train[y_train == k]\n",
        "    psis[k] = np.mean(X_k, axis=0)\n",
        "    phis[k] = X_k.shape[0] / float(n)\n",
        "\n",
        "\n",
        "print(phis)"
      ]
    },
    {
      "cell_type": "code",
      "execution_count": null,
      "metadata": {
        "colab": {
          "base_uri": "https://localhost:8080/"
        },
        "id": "FHQoukbrUCJB",
        "outputId": "02cf2e94-3907-486a-af92-39750c2c8609"
      },
      "outputs": [
        {
          "name": "stdout",
          "output_type": "stream",
          "text": [
            "[0 2 2 0 1 2 2 0 2 0]\n"
          ]
        }
      ],
      "source": [
        "\n",
        "def nb_predictions(x, psis, phis):\n",
        "    n, d = x.shape\n",
        "    x = np.reshape(x, (1, n, d))\n",
        "    psis = np.reshape(psis, (K, 1, d))\n",
        "    \n",
        "\n",
        "    psis = psis.clip(1e-14, 1-1e-14)\n",
        "    \n",
        "    logpy = np.log(phis).reshape([K,1])\n",
        "    logpxy = x * np.log(psis) + (1-x) * np.log(1-psis)\n",
        "    logpyx = logpxy.sum(axis=2) + logpy\n",
        "\n",
        "    return logpyx.argmax(axis=0).flatten(), logpyx.reshape([K,n])\n",
        "\n",
        "idx, logpyx = nb_predictions(X_train, psis, phis)\n",
        "print(idx[:10])"
      ]
    },
    {
      "cell_type": "code",
      "execution_count": null,
      "metadata": {
        "colab": {
          "base_uri": "https://localhost:8080/"
        },
        "id": "4WzEY4RxVS8R",
        "outputId": "6f46ce2e-6c4d-4947-f521-1cdc3b7ed547"
      },
      "outputs": [
        {
          "name": "stdout",
          "output_type": "stream",
          "text": [
            "Amlan is more likely to say the input text\n",
            "Input Text:  😂 😂 😂 😂 😂 😂\n"
          ]
        },
        {
          "data": {
            "text/plain": [
              "array([[-4.31648439],\n",
              "       [-5.14752575],\n",
              "       [-6.0033571 ],\n",
              "       [-5.18138534]])"
            ]
          },
          "execution_count": 55,
          "metadata": {
            "tags": []
          },
          "output_type": "execute_result"
        }
      ],
      "source": [
        "text=[\"😂 😂 😂 😂 😂 😂\"]\n",
        "\n",
        "\n",
        "X_new = count_vect.transform(text).toarray()\n",
        "predicted, logpyx_new = nb_predictions(X_new, psis, phis)\n",
        "\n",
        "names={0:'Amlan',1:'Prasad',2:\"Mihir\",3:'Dheer'}\n",
        "\n",
        "print(\"{} is more likely to say the input text\".format(names[predicted[0]]))\n",
        "print(\"Input Text: \", text[0])\n",
        "logpyx_new\n"
      ]
    },
    {
      "cell_type": "markdown",
      "metadata": {
        "id": "2nivbwm7NCGp"
      },
      "source": []
    }
  ],
  "metadata": {
    "colab": {
      "provenance": []
    },
    "kernelspec": {
      "display_name": "Python 3",
      "name": "python3"
    },
    "language_info": {
      "name": "python"
    }
  },
  "nbformat": 4,
  "nbformat_minor": 0
}